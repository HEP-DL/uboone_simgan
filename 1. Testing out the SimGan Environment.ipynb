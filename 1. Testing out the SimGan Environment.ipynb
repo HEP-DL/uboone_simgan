{
 "cells": [
  {
   "cell_type": "code",
   "execution_count": 1,
   "metadata": {},
   "outputs": [
    {
     "ename": "ImportError",
     "evalue": "No module named theano",
     "output_type": "error",
     "traceback": [
      "\u001b[0;31m---------------------------------------------------------------------------\u001b[0m",
      "\u001b[0;31mImportError\u001b[0m                               Traceback (most recent call last)",
      "\u001b[0;32m<ipython-input-1-62591d002d85>\u001b[0m in \u001b[0;36m<module>\u001b[0;34m()\u001b[0m\n\u001b[1;32m      3\u001b[0m \u001b[0mos\u001b[0m\u001b[0;34m.\u001b[0m\u001b[0menviron\u001b[0m\u001b[0;34m[\u001b[0m\u001b[0;34m\"KERAS_BACKEND\"\u001b[0m\u001b[0;34m]\u001b[0m \u001b[0;34m=\u001b[0m \u001b[0;34m\"tensorflow\"\u001b[0m\u001b[0;34m\u001b[0m\u001b[0m\n\u001b[1;32m      4\u001b[0m \u001b[0;32mimport\u001b[0m \u001b[0mnumpy\u001b[0m \u001b[0;32mas\u001b[0m \u001b[0mnp\u001b[0m\u001b[0;34m\u001b[0m\u001b[0m\n\u001b[0;32m----> 5\u001b[0;31m \u001b[0;32mimport\u001b[0m \u001b[0mtheano\u001b[0m \u001b[0;32mas\u001b[0m \u001b[0mth\u001b[0m\u001b[0;34m\u001b[0m\u001b[0m\n\u001b[0m\u001b[1;32m      6\u001b[0m \u001b[0;32mimport\u001b[0m \u001b[0mtheano\u001b[0m\u001b[0;34m.\u001b[0m\u001b[0mtensor\u001b[0m \u001b[0;32mas\u001b[0m \u001b[0mT\u001b[0m\u001b[0;34m\u001b[0m\u001b[0m\n\u001b[1;32m      7\u001b[0m \u001b[0;32mfrom\u001b[0m \u001b[0mkeras\u001b[0m\u001b[0;34m.\u001b[0m\u001b[0mutils\u001b[0m \u001b[0;32mimport\u001b[0m \u001b[0mnp_utils\u001b[0m\u001b[0;34m\u001b[0m\u001b[0m\n",
      "\u001b[0;31mImportError\u001b[0m: No module named theano"
     ]
    }
   ],
   "source": [
    "%matplotlib inline\n",
    "import os,random\n",
    "os.environ[\"KERAS_BACKEND\"] = \"tensorflow\"\n",
    "import numpy as np\n",
    "#import theano as th\n",
    "#import theano.tensor as T\n",
    "from keras.utils import np_utils\n",
    "import keras.models as models\n",
    "from keras.layers import Input,merge\n",
    "from keras.layers.core import Reshape,Dense,Dropout,Activation,Flatten\n",
    "# TODO: Maxout is being deprecated in favor of Merge with \"max\" operation\n",
    "from keras.legacy.layers import MaxoutDense\n",
    "from keras.layers.advanced_activations import LeakyReLU\n",
    "from keras.activations import *\n",
    "from keras.layers.wrappers import TimeDistributed\n",
    "from keras.layers.noise import GaussianNoise\n",
    "from keras.layers.convolutional import Convolution2D, MaxPooling2D, ZeroPadding2D, Deconv2D, UpSampling2D\n",
    "from keras.layers.recurrent import LSTM\n",
    "from keras.regularizers import *\n",
    "from keras.layers.normalization import *\n",
    "from keras.optimizers import *\n",
    "from keras.datasets import mnist\n",
    "import matplotlib.pyplot as plt\n",
    "import seaborn as sns\n",
    "import cPickle, random, sys, keras\n",
    "from keras.models import Model\n",
    "from IPython import display\n",
    "\n",
    "sys.path.append(\"../common\")\n",
    "from keras.utils import np_utils\n",
    "from tqdm import tqdm\n",
    "\n",
    "K.set_image_dim_ordering('th')"
   ]
  },
  {
   "cell_type": "code",
   "execution_count": null,
   "metadata": {},
   "outputs": [],
   "source": [
    "img_rows, img_cols = 28, 28\n",
    "\n",
    "# the data, shuffled and split between train and test sets\n",
    "(X_train, y_train), (X_test, y_test) = mnist.load_data()\n",
    "\n",
    "X_train = X_train.reshape(X_train.shape[0], 1, img_rows, img_cols)\n",
    "X_test = X_test.reshape(X_test.shape[0], 1, img_rows, img_cols)\n",
    "X_train = X_train.astype('float32')\n",
    "X_test = X_test.astype('float32')\n",
    "X_train /= 255\n",
    "X_test /= 255\n",
    "\n",
    "print np.min(X_train), np.max(X_train)\n",
    "\n",
    "print('X_train shape:', X_train.shape)\n",
    "print(X_train.shape[0], 'train samples')\n",
    "print(X_test.shape[0], 'test samples')"
   ]
  },
  {
   "cell_type": "code",
   "execution_count": null,
   "metadata": {
    "collapsed": true
   },
   "outputs": [],
   "source": [
    "def make_trainable(net, val):\n",
    "    net.trainable = val\n",
    "    for l in net.layers:\n",
    "        l.trainable = val"
   ]
  },
  {
   "cell_type": "code",
   "execution_count": null,
   "metadata": {},
   "outputs": [],
   "source": [
    "shp = X_train.shape[1:]\n",
    "print shp\n",
    "\n",
    "dropout_rate = 0.25\n",
    "# Optim\n",
    "\n",
    "opt = Adam(lr=1e-3)\n",
    "dopt = Adam(lr=1e-4)\n",
    "#opt = Adam(lr=1e-3)\n",
    "#opt = Adamax(lr=1e-4)\n",
    "#opt = Adam(lr=0.0002)\n",
    "#opt = Adam(lr=0.0002, beta_1=0.5, beta_2=0.999, epsilon=1e-08)\n",
    "nch = 200\n",
    "\n",
    "# Build Generative model ...\n",
    "nch = 200\n",
    "g_input = Input(shape=[100])\n",
    "H = Dense(nch*14*14, kernel_initializer='glorot_normal')(g_input)\n",
    "H = BatchNormalization()(H)\n",
    "H = Activation('relu')(H)\n",
    "H = Reshape( [nch, 14, 14] )(H)\n",
    "H = UpSampling2D(size=(2, 2))(H)\n",
    "H = Convolution2D(nch/2, (3, 3), padding='same', kernel_initializer='glorot_uniform')(H)\n",
    "H = BatchNormalization()(H)\n",
    "H = Activation('relu')(H)\n",
    "H = Convolution2D(nch/4, (3, 3), padding='same', kernel_initializer='glorot_uniform')(H)\n",
    "H = BatchNormalization()(H)\n",
    "H = Activation('relu')(H)\n",
    "H = Convolution2D(1, (1, 1), padding='same', kernel_initializer='glorot_uniform')(H)\n",
    "g_V = Activation('sigmoid')(H)\n",
    "generator = Model(g_input,g_V)\n",
    "generator.compile(loss='binary_crossentropy', optimizer=opt)\n",
    "generator.summary()\n",
    "\n",
    "\n",
    "# Build Discriminative model ...\n",
    "d_input = Input(shape=shp)\n",
    "H = Convolution2D(512, (5, 5), padding=\"same\", strides=(2, 2), activation=\"relu\")(d_input)\n",
    "H = LeakyReLU(0.2)(H)\n",
    "H = Dropout(dropout_rate)(H)\n",
    "H = Convolution2D(512, (5, 5), padding=\"same\", strides=(2, 2), activation=\"relu\")(H)\n",
    "H = LeakyReLU(0.2)(H)\n",
    "H = Dropout(dropout_rate)(H)\n",
    "H = Flatten()(H)\n",
    "H = Dense(256)(H)\n",
    "H = LeakyReLU(0.2)(H)\n",
    "H = Dropout(dropout_rate)(H)\n",
    "d_V = Dense(2,activation='softmax')(H)\n",
    "discriminator = Model(d_input,d_V)\n",
    "discriminator.compile(loss='categorical_crossentropy', optimizer=dopt)\n",
    "discriminator.summary()\n",
    "\n",
    "# Freeze weights in the discriminator for stacked training\n",
    "def make_trainable(net, val):\n",
    "    net.trainable = val\n",
    "    for l in net.layers:\n",
    "        l.trainable = val\n",
    "make_trainable(discriminator, False)\n",
    "# Build stacked GAN model\n",
    "gan_input = Input(shape=[100])\n",
    "H = generator(gan_input)\n",
    "gan_V = discriminator(H)\n",
    "GAN = Model(gan_input, gan_V)\n",
    "GAN.compile(loss='categorical_crossentropy', optimizer=opt)\n",
    "GAN.summary()"
   ]
  },
  {
   "cell_type": "code",
   "execution_count": null,
   "metadata": {
    "collapsed": true
   },
   "outputs": [],
   "source": [
    "def plot_loss(losses):\n",
    "        display.clear_output(wait=True)\n",
    "        display.display(plt.gcf())\n",
    "        plt.figure(figsize=(10,8))\n",
    "        plt.plot(losses[\"d\"], label='discriminitive loss')\n",
    "        plt.plot(losses[\"g\"], label='generative loss')\n",
    "        plt.legend()\n",
    "        plt.show()"
   ]
  },
  {
   "cell_type": "code",
   "execution_count": null,
   "metadata": {
    "collapsed": true
   },
   "outputs": [],
   "source": [
    "def plot_gen(n_ex=16,dim=(4,4), figsize=(10,10) ):\n",
    "    noise = np.random.uniform(0,1,size=[n_ex,100])\n",
    "    generated_images = generator.predict(noise)\n",
    "\n",
    "    plt.figure(figsize=figsize)\n",
    "    for i in range(generated_images.shape[0]):\n",
    "        plt.subplot(dim[0],dim[1],i+1)\n",
    "        img = generated_images[i,0,:,:]\n",
    "        plt.imshow(img)\n",
    "        plt.axis('off')\n",
    "    plt.tight_layout()\n",
    "    plt.show()"
   ]
  },
  {
   "cell_type": "code",
   "execution_count": null,
   "metadata": {},
   "outputs": [],
   "source": [
    "\n",
    "ntrain = 100000\n",
    "trainidx = random.sample(range(0,X_train.shape[0]), ntrain)\n",
    "XT = X_train[trainidx,:,:,:]\n",
    "\n",
    "# Pre-train the discriminator network ...\n",
    "noise_gen = np.random.uniform(0,1,size=[XT.shape[0],100])\n",
    "generated_images = generator.predict(noise_gen)\n",
    "X = np.concatenate((XT, generated_images))\n",
    "n = XT.shape[0]\n",
    "y = np.zeros([2*n,2])\n",
    "y[:n,1] = 1\n",
    "y[n:,0] = 1\n",
    "\n",
    "make_trainable(discriminator,True)\n",
    "discriminator.fit(X,y, epochs=1, batch_size=32)\n",
    "y_hat = discriminator.predict(X)"
   ]
  },
  {
   "cell_type": "code",
   "execution_count": null,
   "metadata": {},
   "outputs": [],
   "source": [
    "y_hat_idx = np.argmax(y_hat,axis=1)\n",
    "y_idx = np.argmax(y,axis=1)\n",
    "diff = y_idx-y_hat_idx\n",
    "n_tot = y.shape[0]\n",
    "n_rig = (diff==0).sum()\n",
    "acc = n_rig*100.0/n_tot\n",
    "print \"Accuracy: %0.02f pct (%d of %d) right\"%(acc, n_rig, n_tot)"
   ]
  },
  {
   "cell_type": "code",
   "execution_count": null,
   "metadata": {
    "collapsed": true
   },
   "outputs": [],
   "source": [
    "# set up loss storage vector\n",
    "losses = {\"d\":[], \"g\":[]}"
   ]
  },
  {
   "cell_type": "code",
   "execution_count": null,
   "metadata": {
    "collapsed": true
   },
   "outputs": [],
   "source": [
    "def train_for_n(nb_epoch=5000, plt_frq=25,BATCH_SIZE=32):\n",
    "\n",
    "    for e in tqdm(range(nb_epoch)):  \n",
    "        \n",
    "        # Make generative images\n",
    "        image_batch = X_train[np.random.randint(0,X_train.shape[0],size=BATCH_SIZE),:,:,:]    \n",
    "        noise_gen = np.random.uniform(0,1,size=[BATCH_SIZE,100])\n",
    "        generated_images = generator.predict(noise_gen)\n",
    "        \n",
    "        # Train discriminator on generated images\n",
    "        X = np.concatenate((image_batch, generated_images))\n",
    "        y = np.zeros([2*BATCH_SIZE,2])\n",
    "        y[0:BATCH_SIZE,1] = 1\n",
    "        y[BATCH_SIZE:,0] = 1\n",
    "        \n",
    "        make_trainable(discriminator,True)\n",
    "        d_loss  = discriminator.train_on_batch(X,y)\n",
    "        losses[\"d\"].append(d_loss)\n",
    "    \n",
    "        # train Generator-Discriminator stack on input noise to non-generated output class\n",
    "        noise_tr = np.random.uniform(0,1,size=[BATCH_SIZE,100])\n",
    "        y2 = np.zeros([BATCH_SIZE,2])\n",
    "        y2[:,1] = 1\n",
    "        \n",
    "        make_trainable(discriminator,False)\n",
    "        g_loss = GAN.train_on_batch(noise_tr, y2 )\n",
    "        losses[\"g\"].append(g_loss)\n",
    "        \n",
    "        # Updates plots\n",
    "        if e%plt_frq==plt_frq-1:\n",
    "            plot_loss(losses)\n",
    "            plot_gen()"
   ]
  },
  {
   "cell_type": "code",
   "execution_count": null,
   "metadata": {},
   "outputs": [],
   "source": [
    "train_for_n(epochs=250, plt_frq=25,BATCH_SIZE=128)"
   ]
  },
  {
   "cell_type": "code",
   "execution_count": null,
   "metadata": {},
   "outputs": [],
   "source": [
    "K.set_value(opt.lr, 1e-4)\n",
    "K.set_value(dopt.lr, 1e-5)\n",
    "train_for_n(nb_epoch=100, plt_frq=10,BATCH_SIZE=128)"
   ]
  },
  {
   "cell_type": "code",
   "execution_count": null,
   "metadata": {},
   "outputs": [],
   "source": [
    "K.set_value(opt.lr, 1e-5)\n",
    "K.set_value(dopt.lr, 1e-6)\n",
    "train_for_n(nb_epoch=100, plt_frq=10,BATCH_SIZE=256)"
   ]
  },
  {
   "cell_type": "code",
   "execution_count": null,
   "metadata": {},
   "outputs": [],
   "source": [
    "plot_loss(losses)"
   ]
  },
  {
   "cell_type": "code",
   "execution_count": null,
   "metadata": {},
   "outputs": [],
   "source": [
    "plot_gen(25,(5,5),(12,12))"
   ]
  },
  {
   "cell_type": "code",
   "execution_count": null,
   "metadata": {
    "collapsed": true
   },
   "outputs": [],
   "source": [
    "\n",
    "def plot_real(n_ex=16,dim=(4,4), figsize=(10,10) ):\n",
    "    \n",
    "    idx = np.random.randint(0,X_train.shape[0],n_ex)\n",
    "    generated_images = X_train[idx,:,:,:]\n",
    "\n",
    "    plt.figure(figsize=figsize)\n",
    "    for i in range(generated_images.shape[0]):\n",
    "        plt.subplot(dim[0],dim[1],i+1)\n",
    "        img = generated_images[i,0,:,:]\n",
    "        plt.imshow(img)\n",
    "        plt.axis('off')\n",
    "    plt.tight_layout()\n",
    "    plt.show()"
   ]
  },
  {
   "cell_type": "code",
   "execution_count": null,
   "metadata": {},
   "outputs": [],
   "source": [
    "plot_real()"
   ]
  },
  {
   "cell_type": "code",
   "execution_count": null,
   "metadata": {
    "collapsed": true
   },
   "outputs": [],
   "source": []
  }
 ],
 "metadata": {
  "kernelspec": {
   "display_name": "Python 2",
   "language": "python",
   "name": "python2"
  },
  "language_info": {
   "codemirror_mode": {
    "name": "ipython",
    "version": 2
   },
   "file_extension": ".py",
   "mimetype": "text/x-python",
   "name": "python",
   "nbconvert_exporter": "python",
   "pygments_lexer": "ipython2",
   "version": "2.7.10"
  }
 },
 "nbformat": 4,
 "nbformat_minor": 2
}
